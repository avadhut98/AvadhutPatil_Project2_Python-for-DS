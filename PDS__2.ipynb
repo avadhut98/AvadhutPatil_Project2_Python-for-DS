{
 "cells": [
  {
   "cell_type": "markdown",
   "id": "3b0e802f-d1cc-4a71-aee4-d41c6e6b0062",
   "metadata": {
    "id": "3b0e802f-d1cc-4a71-aee4-d41c6e6b0062"
   },
   "source": [
    "## 1. Load the required libraries and read the dataset. (1)"
   ]
  },
  {
   "cell_type": "code",
   "execution_count": 861,
   "id": "8efce955-d593-4dea-853a-235b33f91690",
   "metadata": {
    "id": "8efce955-d593-4dea-853a-235b33f91690"
   },
   "outputs": [],
   "source": [
    "#importing required libraries\n",
    "\n",
    "import numpy as np\n",
    "import pandas as pd\n",
    "import matplotlib.pyplot as plt\n",
    "%matplotlib inline\n",
    "import seaborn as sns\n",
    "import warnings\n",
    "warnings.filterwarnings('ignore')\n",
    "from sklearn.preprocessing import StandardScaler\n",
    "from sklearn.preprocessing import LabelEncoder\n",
    "from sklearn.model_selection import train_test_split"
   ]
  },
  {
   "cell_type": "markdown",
   "id": "74fb9678-605c-4f7e-99ba-0a98d9b0cfab",
   "metadata": {
    "id": "74fb9678-605c-4f7e-99ba-0a98d9b0cfab"
   },
   "source": [
    "## 2. Check the first few samples, shape, info of the data and try to familiarize yourself with different features (2)"
   ]
  },
  {
   "cell_type": "code",
   "execution_count": 863,
   "id": "7f2b58be-bd17-42f7-bf74-bd33b311e67d",
   "metadata": {
    "id": "7f2b58be-bd17-42f7-bf74-bd33b311e67d",
    "outputId": "97b0387b-06f5-4f90-9805-85d31eb3fcfd"
   },
   "outputs": [
    {
     "data": {
      "text/html": [
       "<div>\n",
       "<style scoped>\n",
       "    .dataframe tbody tr th:only-of-type {\n",
       "        vertical-align: middle;\n",
       "    }\n",
       "\n",
       "    .dataframe tbody tr th {\n",
       "        vertical-align: top;\n",
       "    }\n",
       "\n",
       "    .dataframe thead th {\n",
       "        text-align: right;\n",
       "    }\n",
       "</style>\n",
       "<table border=\"1\" class=\"dataframe\">\n",
       "  <thead>\n",
       "    <tr style=\"text-align: right;\">\n",
       "      <th></th>\n",
       "      <th>Unnamed: 0</th>\n",
       "      <th>fit</th>\n",
       "      <th>user_id</th>\n",
       "      <th>bust size</th>\n",
       "      <th>item_id</th>\n",
       "      <th>weight</th>\n",
       "      <th>rating</th>\n",
       "      <th>rented for</th>\n",
       "      <th>review_text</th>\n",
       "      <th>body type</th>\n",
       "      <th>review_summary</th>\n",
       "      <th>category</th>\n",
       "      <th>height</th>\n",
       "      <th>size</th>\n",
       "      <th>age</th>\n",
       "      <th>review_date</th>\n",
       "    </tr>\n",
       "  </thead>\n",
       "  <tbody>\n",
       "    <tr>\n",
       "      <th>0</th>\n",
       "      <td>0</td>\n",
       "      <td>fit</td>\n",
       "      <td>420272</td>\n",
       "      <td>34d</td>\n",
       "      <td>2260466</td>\n",
       "      <td>137lbs</td>\n",
       "      <td>10.0</td>\n",
       "      <td>vacation</td>\n",
       "      <td>An adorable romper! Belt and zipper were a lit...</td>\n",
       "      <td>hourglass</td>\n",
       "      <td>So many compliments!</td>\n",
       "      <td>romper</td>\n",
       "      <td>5' 8\"</td>\n",
       "      <td>14</td>\n",
       "      <td>28.0</td>\n",
       "      <td>April 20, 2016</td>\n",
       "    </tr>\n",
       "    <tr>\n",
       "      <th>1</th>\n",
       "      <td>1</td>\n",
       "      <td>fit</td>\n",
       "      <td>273551</td>\n",
       "      <td>34b</td>\n",
       "      <td>153475</td>\n",
       "      <td>132lbs</td>\n",
       "      <td>10.0</td>\n",
       "      <td>other</td>\n",
       "      <td>I rented this dress for a photo shoot. The the...</td>\n",
       "      <td>straight &amp; narrow</td>\n",
       "      <td>I felt so glamourous!!!</td>\n",
       "      <td>gown</td>\n",
       "      <td>5' 6\"</td>\n",
       "      <td>12</td>\n",
       "      <td>36.0</td>\n",
       "      <td>June 18, 2013</td>\n",
       "    </tr>\n",
       "    <tr>\n",
       "      <th>2</th>\n",
       "      <td>2</td>\n",
       "      <td>fit</td>\n",
       "      <td>360448</td>\n",
       "      <td>NaN</td>\n",
       "      <td>1063761</td>\n",
       "      <td>NaN</td>\n",
       "      <td>10.0</td>\n",
       "      <td>party</td>\n",
       "      <td>This hugged in all the right places! It was a ...</td>\n",
       "      <td>NaN</td>\n",
       "      <td>It was a great time to celebrate the (almost) ...</td>\n",
       "      <td>sheath</td>\n",
       "      <td>5' 4\"</td>\n",
       "      <td>4</td>\n",
       "      <td>116.0</td>\n",
       "      <td>December 14, 2015</td>\n",
       "    </tr>\n",
       "    <tr>\n",
       "      <th>3</th>\n",
       "      <td>3</td>\n",
       "      <td>fit</td>\n",
       "      <td>909926</td>\n",
       "      <td>34c</td>\n",
       "      <td>126335</td>\n",
       "      <td>135lbs</td>\n",
       "      <td>8.0</td>\n",
       "      <td>formal affair</td>\n",
       "      <td>I rented this for my company's black tie award...</td>\n",
       "      <td>pear</td>\n",
       "      <td>Dress arrived on time and in perfect condition.</td>\n",
       "      <td>dress</td>\n",
       "      <td>5' 5\"</td>\n",
       "      <td>8</td>\n",
       "      <td>34.0</td>\n",
       "      <td>February 12, 2014</td>\n",
       "    </tr>\n",
       "    <tr>\n",
       "      <th>4</th>\n",
       "      <td>4</td>\n",
       "      <td>fit</td>\n",
       "      <td>151944</td>\n",
       "      <td>34b</td>\n",
       "      <td>616682</td>\n",
       "      <td>145lbs</td>\n",
       "      <td>10.0</td>\n",
       "      <td>wedding</td>\n",
       "      <td>I have always been petite in my upper body and...</td>\n",
       "      <td>athletic</td>\n",
       "      <td>Was in love with this dress !!!</td>\n",
       "      <td>gown</td>\n",
       "      <td>5' 9\"</td>\n",
       "      <td>12</td>\n",
       "      <td>27.0</td>\n",
       "      <td>September 26, 2016</td>\n",
       "    </tr>\n",
       "  </tbody>\n",
       "</table>\n",
       "</div>"
      ],
      "text/plain": [
       "   Unnamed: 0  fit  user_id bust size  item_id  weight  rating     rented for  \\\n",
       "0           0  fit   420272       34d  2260466  137lbs    10.0       vacation   \n",
       "1           1  fit   273551       34b   153475  132lbs    10.0          other   \n",
       "2           2  fit   360448       NaN  1063761     NaN    10.0          party   \n",
       "3           3  fit   909926       34c   126335  135lbs     8.0  formal affair   \n",
       "4           4  fit   151944       34b   616682  145lbs    10.0        wedding   \n",
       "\n",
       "                                         review_text          body type  \\\n",
       "0  An adorable romper! Belt and zipper were a lit...          hourglass   \n",
       "1  I rented this dress for a photo shoot. The the...  straight & narrow   \n",
       "2  This hugged in all the right places! It was a ...                NaN   \n",
       "3  I rented this for my company's black tie award...               pear   \n",
       "4  I have always been petite in my upper body and...           athletic   \n",
       "\n",
       "                                      review_summary category height  size  \\\n",
       "0                               So many compliments!   romper  5' 8\"    14   \n",
       "1                            I felt so glamourous!!!     gown  5' 6\"    12   \n",
       "2  It was a great time to celebrate the (almost) ...   sheath  5' 4\"     4   \n",
       "3   Dress arrived on time and in perfect condition.     dress  5' 5\"     8   \n",
       "4                    Was in love with this dress !!!     gown  5' 9\"    12   \n",
       "\n",
       "     age         review_date  \n",
       "0   28.0      April 20, 2016  \n",
       "1   36.0       June 18, 2013  \n",
       "2  116.0   December 14, 2015  \n",
       "3   34.0   February 12, 2014  \n",
       "4   27.0  September 26, 2016  "
      ]
     },
     "execution_count": 863,
     "metadata": {},
     "output_type": "execute_result"
    }
   ],
   "source": [
    "\n",
    "df = pd.read_csv('renttherunway.csv')\n",
    "\n",
    "df.head()"
   ]
  },
  {
   "cell_type": "code",
   "execution_count": 864,
   "id": "ff78b066-2be5-422c-b5f9-411a778b8d67",
   "metadata": {
    "id": "ff78b066-2be5-422c-b5f9-411a778b8d67",
    "outputId": "276458c6-07da-4835-9ef9-a7cfd2311bd9"
   },
   "outputs": [
    {
     "name": "stdout",
     "output_type": "stream",
     "text": [
      "<class 'pandas.core.frame.DataFrame'>\n",
      "RangeIndex: 192544 entries, 0 to 192543\n",
      "Data columns (total 16 columns):\n",
      " #   Column          Non-Null Count   Dtype  \n",
      "---  ------          --------------   -----  \n",
      " 0   Unnamed: 0      192544 non-null  int64  \n",
      " 1   fit             192544 non-null  object \n",
      " 2   user_id         192544 non-null  int64  \n",
      " 3   bust size       174133 non-null  object \n",
      " 4   item_id         192544 non-null  int64  \n",
      " 5   weight          162562 non-null  object \n",
      " 6   rating          192462 non-null  float64\n",
      " 7   rented for      192534 non-null  object \n",
      " 8   review_text     192476 non-null  object \n",
      " 9   body type       177907 non-null  object \n",
      " 10  review_summary  192197 non-null  object \n",
      " 11  category        192544 non-null  object \n",
      " 12  height          191867 non-null  object \n",
      " 13  size            192544 non-null  int64  \n",
      " 14  age             191584 non-null  float64\n",
      " 15  review_date     192544 non-null  object \n",
      "dtypes: float64(2), int64(4), object(10)\n",
      "memory usage: 23.5+ MB\n"
     ]
    }
   ],
   "source": [
    "df.info()"
   ]
  },
  {
   "cell_type": "code",
   "execution_count": 865,
   "id": "8ff058b6-08cf-4d97-b33b-fc20b4f05648",
   "metadata": {
    "id": "8ff058b6-08cf-4d97-b33b-fc20b4f05648",
    "outputId": "3a13ced7-4ef8-4a84-b67d-692f38030ffe"
   },
   "outputs": [
    {
     "data": {
      "text/plain": [
       "(192544, 16)"
      ]
     },
     "execution_count": 865,
     "metadata": {},
     "output_type": "execute_result"
    }
   ],
   "source": [
    "df.shape"
   ]
  },
  {
   "cell_type": "code",
   "execution_count": 866,
   "id": "8fe0d91d-81e7-44df-a60d-736355890aad",
   "metadata": {
    "id": "8fe0d91d-81e7-44df-a60d-736355890aad",
    "outputId": "4c262f76-f4ce-4c03-8dc9-d488209ce355"
   },
   "outputs": [
    {
     "data": {
      "text/html": [
       "<div>\n",
       "<style scoped>\n",
       "    .dataframe tbody tr th:only-of-type {\n",
       "        vertical-align: middle;\n",
       "    }\n",
       "\n",
       "    .dataframe tbody tr th {\n",
       "        vertical-align: top;\n",
       "    }\n",
       "\n",
       "    .dataframe thead th {\n",
       "        text-align: right;\n",
       "    }\n",
       "</style>\n",
       "<table border=\"1\" class=\"dataframe\">\n",
       "  <thead>\n",
       "    <tr style=\"text-align: right;\">\n",
       "      <th></th>\n",
       "      <th>Unnamed: 0</th>\n",
       "      <th>fit</th>\n",
       "      <th>user_id</th>\n",
       "      <th>bust size</th>\n",
       "      <th>item_id</th>\n",
       "      <th>weight</th>\n",
       "      <th>rating</th>\n",
       "      <th>rented for</th>\n",
       "      <th>review_text</th>\n",
       "      <th>body type</th>\n",
       "      <th>review_summary</th>\n",
       "      <th>category</th>\n",
       "      <th>height</th>\n",
       "      <th>size</th>\n",
       "      <th>age</th>\n",
       "      <th>review_date</th>\n",
       "    </tr>\n",
       "  </thead>\n",
       "  <tbody>\n",
       "    <tr>\n",
       "      <th>0</th>\n",
       "      <td>0</td>\n",
       "      <td>fit</td>\n",
       "      <td>420272</td>\n",
       "      <td>34d</td>\n",
       "      <td>2260466</td>\n",
       "      <td>137lbs</td>\n",
       "      <td>10.0</td>\n",
       "      <td>vacation</td>\n",
       "      <td>An adorable romper! Belt and zipper were a lit...</td>\n",
       "      <td>hourglass</td>\n",
       "      <td>So many compliments!</td>\n",
       "      <td>romper</td>\n",
       "      <td>5' 8\"</td>\n",
       "      <td>14</td>\n",
       "      <td>28.0</td>\n",
       "      <td>April 20, 2016</td>\n",
       "    </tr>\n",
       "    <tr>\n",
       "      <th>1</th>\n",
       "      <td>1</td>\n",
       "      <td>fit</td>\n",
       "      <td>273551</td>\n",
       "      <td>34b</td>\n",
       "      <td>153475</td>\n",
       "      <td>132lbs</td>\n",
       "      <td>10.0</td>\n",
       "      <td>other</td>\n",
       "      <td>I rented this dress for a photo shoot. The the...</td>\n",
       "      <td>straight &amp; narrow</td>\n",
       "      <td>I felt so glamourous!!!</td>\n",
       "      <td>gown</td>\n",
       "      <td>5' 6\"</td>\n",
       "      <td>12</td>\n",
       "      <td>36.0</td>\n",
       "      <td>June 18, 2013</td>\n",
       "    </tr>\n",
       "    <tr>\n",
       "      <th>2</th>\n",
       "      <td>2</td>\n",
       "      <td>fit</td>\n",
       "      <td>360448</td>\n",
       "      <td>NaN</td>\n",
       "      <td>1063761</td>\n",
       "      <td>NaN</td>\n",
       "      <td>10.0</td>\n",
       "      <td>party</td>\n",
       "      <td>This hugged in all the right places! It was a ...</td>\n",
       "      <td>NaN</td>\n",
       "      <td>It was a great time to celebrate the (almost) ...</td>\n",
       "      <td>sheath</td>\n",
       "      <td>5' 4\"</td>\n",
       "      <td>4</td>\n",
       "      <td>116.0</td>\n",
       "      <td>December 14, 2015</td>\n",
       "    </tr>\n",
       "    <tr>\n",
       "      <th>3</th>\n",
       "      <td>3</td>\n",
       "      <td>fit</td>\n",
       "      <td>909926</td>\n",
       "      <td>34c</td>\n",
       "      <td>126335</td>\n",
       "      <td>135lbs</td>\n",
       "      <td>8.0</td>\n",
       "      <td>formal affair</td>\n",
       "      <td>I rented this for my company's black tie award...</td>\n",
       "      <td>pear</td>\n",
       "      <td>Dress arrived on time and in perfect condition.</td>\n",
       "      <td>dress</td>\n",
       "      <td>5' 5\"</td>\n",
       "      <td>8</td>\n",
       "      <td>34.0</td>\n",
       "      <td>February 12, 2014</td>\n",
       "    </tr>\n",
       "    <tr>\n",
       "      <th>4</th>\n",
       "      <td>4</td>\n",
       "      <td>fit</td>\n",
       "      <td>151944</td>\n",
       "      <td>34b</td>\n",
       "      <td>616682</td>\n",
       "      <td>145lbs</td>\n",
       "      <td>10.0</td>\n",
       "      <td>wedding</td>\n",
       "      <td>I have always been petite in my upper body and...</td>\n",
       "      <td>athletic</td>\n",
       "      <td>Was in love with this dress !!!</td>\n",
       "      <td>gown</td>\n",
       "      <td>5' 9\"</td>\n",
       "      <td>12</td>\n",
       "      <td>27.0</td>\n",
       "      <td>September 26, 2016</td>\n",
       "    </tr>\n",
       "  </tbody>\n",
       "</table>\n",
       "</div>"
      ],
      "text/plain": [
       "   Unnamed: 0  fit  user_id bust size  item_id  weight  rating     rented for  \\\n",
       "0           0  fit   420272       34d  2260466  137lbs    10.0       vacation   \n",
       "1           1  fit   273551       34b   153475  132lbs    10.0          other   \n",
       "2           2  fit   360448       NaN  1063761     NaN    10.0          party   \n",
       "3           3  fit   909926       34c   126335  135lbs     8.0  formal affair   \n",
       "4           4  fit   151944       34b   616682  145lbs    10.0        wedding   \n",
       "\n",
       "                                         review_text          body type  \\\n",
       "0  An adorable romper! Belt and zipper were a lit...          hourglass   \n",
       "1  I rented this dress for a photo shoot. The the...  straight & narrow   \n",
       "2  This hugged in all the right places! It was a ...                NaN   \n",
       "3  I rented this for my company's black tie award...               pear   \n",
       "4  I have always been petite in my upper body and...           athletic   \n",
       "\n",
       "                                      review_summary category height  size  \\\n",
       "0                               So many compliments!   romper  5' 8\"    14   \n",
       "1                            I felt so glamourous!!!     gown  5' 6\"    12   \n",
       "2  It was a great time to celebrate the (almost) ...   sheath  5' 4\"     4   \n",
       "3   Dress arrived on time and in perfect condition.     dress  5' 5\"     8   \n",
       "4                    Was in love with this dress !!!     gown  5' 9\"    12   \n",
       "\n",
       "     age         review_date  \n",
       "0   28.0      April 20, 2016  \n",
       "1   36.0       June 18, 2013  \n",
       "2  116.0   December 14, 2015  \n",
       "3   34.0   February 12, 2014  \n",
       "4   27.0  September 26, 2016  "
      ]
     },
     "execution_count": 866,
     "metadata": {},
     "output_type": "execute_result"
    }
   ],
   "source": [
    "#Copying the dataframe into new dataframe\n",
    "df1 = df.copy()\n",
    "df1.head()"
   ]
  },
  {
   "cell_type": "markdown",
   "id": "3b4521a9-dae0-4a27-a9c4-b292d7c53a33",
   "metadata": {
    "id": "3b4521a9-dae0-4a27-a9c4-b292d7c53a33"
   },
   "source": [
    "## 3. Check if there are any duplicate records in the dataset? If any, drop them.(1)"
   ]
  },
  {
   "cell_type": "code",
   "execution_count": 868,
   "id": "29bdf5bf-47d6-4999-b840-31e0d4585981",
   "metadata": {
    "id": "29bdf5bf-47d6-4999-b840-31e0d4585981",
    "outputId": "3a816ce3-8508-4c03-c2e9-4f44e282a3ee"
   },
   "outputs": [
    {
     "data": {
      "text/plain": [
       "0"
      ]
     },
     "execution_count": 868,
     "metadata": {},
     "output_type": "execute_result"
    }
   ],
   "source": [
    "df1.duplicated().sum()"
   ]
  },
  {
   "cell_type": "markdown",
   "id": "6baf1b35-b8c5-4b19-9354-18526203cee7",
   "metadata": {
    "id": "6baf1b35-b8c5-4b19-9354-18526203cee7"
   },
   "source": [
    "## 4. Drop the columns which you think redundant for the analysis.(Hint: drop columns like ‘id’, ‘review’) (1)"
   ]
  },
  {
   "cell_type": "code",
   "execution_count": 870,
   "id": "23878f75-500d-4a4f-8616-aea6a4a0f4da",
   "metadata": {
    "id": "23878f75-500d-4a4f-8616-aea6a4a0f4da",
    "outputId": "6adabe12-df13-4117-fc32-eb10173fb56f"
   },
   "outputs": [
    {
     "data": {
      "text/html": [
       "<div>\n",
       "<style scoped>\n",
       "    .dataframe tbody tr th:only-of-type {\n",
       "        vertical-align: middle;\n",
       "    }\n",
       "\n",
       "    .dataframe tbody tr th {\n",
       "        vertical-align: top;\n",
       "    }\n",
       "\n",
       "    .dataframe thead th {\n",
       "        text-align: right;\n",
       "    }\n",
       "</style>\n",
       "<table border=\"1\" class=\"dataframe\">\n",
       "  <thead>\n",
       "    <tr style=\"text-align: right;\">\n",
       "      <th></th>\n",
       "      <th>fit</th>\n",
       "      <th>bust size</th>\n",
       "      <th>weight</th>\n",
       "      <th>rating</th>\n",
       "      <th>rented for</th>\n",
       "      <th>body type</th>\n",
       "      <th>category</th>\n",
       "      <th>height</th>\n",
       "      <th>size</th>\n",
       "      <th>age</th>\n",
       "    </tr>\n",
       "  </thead>\n",
       "  <tbody>\n",
       "    <tr>\n",
       "      <th>0</th>\n",
       "      <td>fit</td>\n",
       "      <td>34d</td>\n",
       "      <td>137lbs</td>\n",
       "      <td>10.0</td>\n",
       "      <td>vacation</td>\n",
       "      <td>hourglass</td>\n",
       "      <td>romper</td>\n",
       "      <td>5' 8\"</td>\n",
       "      <td>14</td>\n",
       "      <td>28.0</td>\n",
       "    </tr>\n",
       "    <tr>\n",
       "      <th>1</th>\n",
       "      <td>fit</td>\n",
       "      <td>34b</td>\n",
       "      <td>132lbs</td>\n",
       "      <td>10.0</td>\n",
       "      <td>other</td>\n",
       "      <td>straight &amp; narrow</td>\n",
       "      <td>gown</td>\n",
       "      <td>5' 6\"</td>\n",
       "      <td>12</td>\n",
       "      <td>36.0</td>\n",
       "    </tr>\n",
       "    <tr>\n",
       "      <th>2</th>\n",
       "      <td>fit</td>\n",
       "      <td>NaN</td>\n",
       "      <td>NaN</td>\n",
       "      <td>10.0</td>\n",
       "      <td>party</td>\n",
       "      <td>NaN</td>\n",
       "      <td>sheath</td>\n",
       "      <td>5' 4\"</td>\n",
       "      <td>4</td>\n",
       "      <td>116.0</td>\n",
       "    </tr>\n",
       "    <tr>\n",
       "      <th>3</th>\n",
       "      <td>fit</td>\n",
       "      <td>34c</td>\n",
       "      <td>135lbs</td>\n",
       "      <td>8.0</td>\n",
       "      <td>formal affair</td>\n",
       "      <td>pear</td>\n",
       "      <td>dress</td>\n",
       "      <td>5' 5\"</td>\n",
       "      <td>8</td>\n",
       "      <td>34.0</td>\n",
       "    </tr>\n",
       "    <tr>\n",
       "      <th>4</th>\n",
       "      <td>fit</td>\n",
       "      <td>34b</td>\n",
       "      <td>145lbs</td>\n",
       "      <td>10.0</td>\n",
       "      <td>wedding</td>\n",
       "      <td>athletic</td>\n",
       "      <td>gown</td>\n",
       "      <td>5' 9\"</td>\n",
       "      <td>12</td>\n",
       "      <td>27.0</td>\n",
       "    </tr>\n",
       "  </tbody>\n",
       "</table>\n",
       "</div>"
      ],
      "text/plain": [
       "   fit bust size  weight  rating     rented for          body type category  \\\n",
       "0  fit       34d  137lbs    10.0       vacation          hourglass   romper   \n",
       "1  fit       34b  132lbs    10.0          other  straight & narrow     gown   \n",
       "2  fit       NaN     NaN    10.0          party                NaN   sheath   \n",
       "3  fit       34c  135lbs     8.0  formal affair               pear    dress   \n",
       "4  fit       34b  145lbs    10.0        wedding           athletic     gown   \n",
       "\n",
       "  height  size    age  \n",
       "0  5' 8\"    14   28.0  \n",
       "1  5' 6\"    12   36.0  \n",
       "2  5' 4\"     4  116.0  \n",
       "3  5' 5\"     8   34.0  \n",
       "4  5' 9\"    12   27.0  "
      ]
     },
     "execution_count": 870,
     "metadata": {},
     "output_type": "execute_result"
    }
   ],
   "source": [
    "df1.drop(columns = ['Unnamed: 0','user_id','item_id','review_text','review_summary','review_date'], inplace = True, axis = 1)\n",
    "df1.head()"
   ]
  },
  {
   "cell_type": "markdown",
   "id": "5e42bf30-013e-4bc3-bfcc-c5ae4bb9b374",
   "metadata": {
    "id": "5e42bf30-013e-4bc3-bfcc-c5ae4bb9b374"
   },
   "source": [
    "## 5. Check the column 'weight', Is there any presence of string data? If yes, remove the string data and convert to float. (Hint: 'weight' has the suffix as lbs) (2)"
   ]
  },
  {
   "cell_type": "code",
   "execution_count": 872,
   "id": "3a9fc48e-e149-4c8a-963b-ab98af10795e",
   "metadata": {
    "id": "3a9fc48e-e149-4c8a-963b-ab98af10795e",
    "outputId": "8c632b49-8f8f-4169-e1bb-c7597bf4e33e"
   },
   "outputs": [
    {
     "data": {
      "text/plain": [
       "0         137\n",
       "1         132\n",
       "2         NaN\n",
       "3         135\n",
       "4         145\n",
       "         ... \n",
       "192539    140\n",
       "192540    100\n",
       "192541    135\n",
       "192542    165\n",
       "192543    155\n",
       "Name: weight, Length: 192544, dtype: object"
      ]
     },
     "execution_count": 872,
     "metadata": {},
     "output_type": "execute_result"
    }
   ],
   "source": [
    "df1['weight'] = df1['weight'].str.removesuffix('lbs')\n",
    "df1['weight']"
   ]
  },
  {
   "cell_type": "code",
   "execution_count": 873,
   "id": "0d610631-24d1-4ffe-8b2e-28ff44ffb447",
   "metadata": {
    "id": "0d610631-24d1-4ffe-8b2e-28ff44ffb447",
    "outputId": "b969d2ea-7ffd-40c5-c6da-47fec23a7f32"
   },
   "outputs": [
    {
     "data": {
      "text/plain": [
       "dtype('float64')"
      ]
     },
     "execution_count": 873,
     "metadata": {},
     "output_type": "execute_result"
    }
   ],
   "source": [
    "#Converting the weight feature from Object to float\n",
    "df1['weight'] = df1['weight'].astype('float')\n",
    "df1['weight'].dtype"
   ]
  },
  {
   "cell_type": "code",
   "execution_count": 874,
   "id": "0f6834b3-54ca-4e63-9d6b-02b5c7bb87f6",
   "metadata": {
    "id": "0f6834b3-54ca-4e63-9d6b-02b5c7bb87f6",
    "outputId": "4d12a94c-400e-4574-e69a-79d77577a557"
   },
   "outputs": [
    {
     "data": {
      "text/plain": [
       "29982"
      ]
     },
     "execution_count": 874,
     "metadata": {},
     "output_type": "execute_result"
    }
   ],
   "source": [
    "\n",
    "df1['weight'].isnull().sum()"
   ]
  },
  {
   "cell_type": "code",
   "execution_count": 875,
   "id": "d5142ea4-9738-4637-b7eb-4bc874d47659",
   "metadata": {
    "id": "d5142ea4-9738-4637-b7eb-4bc874d47659",
    "outputId": "0e50e773-9b87-4173-bb8c-94860d9d119a"
   },
   "outputs": [
    {
     "data": {
      "text/plain": [
       "0    137.000000\n",
       "1    132.000000\n",
       "2    137.391709\n",
       "3    135.000000\n",
       "4    145.000000\n",
       "Name: weight, dtype: float64"
      ]
     },
     "execution_count": 875,
     "metadata": {},
     "output_type": "execute_result"
    }
   ],
   "source": [
    "#Imputing the missing value with mean value of the feature\n",
    "df1['weight']  = df1['weight'].fillna(df1['weight'].mean())\n",
    "df1['weight'].head()"
   ]
  },
  {
   "cell_type": "code",
   "execution_count": 876,
   "id": "194015d0-1811-477e-855f-c678e025a530",
   "metadata": {
    "id": "194015d0-1811-477e-855f-c678e025a530",
    "outputId": "6327d142-87b5-42a5-b61f-71bc150c87a4"
   },
   "outputs": [
    {
     "data": {
      "text/plain": [
       "0"
      ]
     },
     "execution_count": 876,
     "metadata": {},
     "output_type": "execute_result"
    }
   ],
   "source": [
    "#Checking the count of the missing values in the feature\n",
    "df1['weight'].isnull().sum()"
   ]
  },
  {
   "cell_type": "markdown",
   "id": "43804e96-1d07-4b49-9148-6c8056af37e2",
   "metadata": {
    "id": "43804e96-1d07-4b49-9148-6c8056af37e2"
   },
   "source": [
    "## 6. Check the unique categories for the column 'rented for' and group 'party: cocktail' category with 'party'. (2)"
   ]
  },
  {
   "cell_type": "code",
   "execution_count": 878,
   "id": "ce6e7f6e-c961-4e83-aaf0-3b3654f3f2b6",
   "metadata": {
    "id": "ce6e7f6e-c961-4e83-aaf0-3b3654f3f2b6",
    "outputId": "04e7fad8-0391-4e4c-d86b-f4e27b926ac5"
   },
   "outputs": [
    {
     "data": {
      "text/plain": [
       "rented for\n",
       "wedding            57784\n",
       "formal affair      40408\n",
       "party              35626\n",
       "everyday           16822\n",
       "other              15388\n",
       "work               15042\n",
       "date                7388\n",
       "vacation            4075\n",
       "party: cocktail        1\n",
       "Name: count, dtype: int64"
      ]
     },
     "execution_count": 878,
     "metadata": {},
     "output_type": "execute_result"
    }
   ],
   "source": [
    "df1['rented for'].value_counts()"
   ]
  },
  {
   "cell_type": "code",
   "execution_count": 879,
   "id": "e5067b78-dfe9-4ef4-a3e5-38ed8bf4fa14",
   "metadata": {
    "id": "e5067b78-dfe9-4ef4-a3e5-38ed8bf4fa14",
    "outputId": "1077e18a-1014-42a3-9213-7a84269d4ae8"
   },
   "outputs": [
    {
     "data": {
      "text/plain": [
       "10"
      ]
     },
     "execution_count": 879,
     "metadata": {},
     "output_type": "execute_result"
    }
   ],
   "source": [
    "#Checking the sum of null / empty values\n",
    "df1['rented for'].isnull().sum()"
   ]
  },
  {
   "cell_type": "code",
   "execution_count": 880,
   "id": "1f34fbf8-69c9-4f0c-8d75-eb2f90d7b2a0",
   "metadata": {
    "id": "1f34fbf8-69c9-4f0c-8d75-eb2f90d7b2a0"
   },
   "outputs": [
    {
     "data": {
      "text/plain": [
       "0              vacation\n",
       "1                 other\n",
       "2                 party\n",
       "3         formal affair\n",
       "4               wedding\n",
       "              ...      \n",
       "192539             work\n",
       "192540             work\n",
       "192541         everyday\n",
       "192542          wedding\n",
       "192543          wedding\n",
       "Name: rented for, Length: 192544, dtype: object"
      ]
     },
     "execution_count": 880,
     "metadata": {},
     "output_type": "execute_result"
    }
   ],
   "source": [
    "#Imputing the Missing values with the mode\n",
    "df1['rented for'] = df1['rented for'].fillna(df1['rented for'].mode()[0])\n",
    "df1['rented for']"
   ]
  },
  {
   "cell_type": "code",
   "execution_count": 881,
   "id": "f1e3ea9c-c718-4b09-af71-7fa8fde8d769",
   "metadata": {
    "id": "f1e3ea9c-c718-4b09-af71-7fa8fde8d769",
    "outputId": "aa2fc741-3372-4fb6-a6aa-06fe0382980c"
   },
   "outputs": [
    {
     "data": {
      "text/plain": [
       "0"
      ]
     },
     "execution_count": 881,
     "metadata": {},
     "output_type": "execute_result"
    }
   ],
   "source": [
    "df1['rented for'].isnull().sum()"
   ]
  },
  {
   "cell_type": "code",
   "execution_count": 882,
   "id": "0d119590-f2d0-40be-87de-d7dfb3605264",
   "metadata": {
    "id": "0d119590-f2d0-40be-87de-d7dfb3605264",
    "outputId": "858a20b7-74fa-4607-f442-9bba66d771ef"
   },
   "outputs": [
    {
     "data": {
      "text/html": [
       "<div>\n",
       "<style scoped>\n",
       "    .dataframe tbody tr th:only-of-type {\n",
       "        vertical-align: middle;\n",
       "    }\n",
       "\n",
       "    .dataframe tbody tr th {\n",
       "        vertical-align: top;\n",
       "    }\n",
       "\n",
       "    .dataframe thead th {\n",
       "        text-align: right;\n",
       "    }\n",
       "</style>\n",
       "<table border=\"1\" class=\"dataframe\">\n",
       "  <thead>\n",
       "    <tr style=\"text-align: right;\">\n",
       "      <th></th>\n",
       "      <th>fit</th>\n",
       "      <th>bust size</th>\n",
       "      <th>weight</th>\n",
       "      <th>rating</th>\n",
       "      <th>rented for</th>\n",
       "      <th>body type</th>\n",
       "      <th>category</th>\n",
       "      <th>height</th>\n",
       "      <th>size</th>\n",
       "      <th>age</th>\n",
       "    </tr>\n",
       "  </thead>\n",
       "  <tbody>\n",
       "    <tr>\n",
       "      <th>100942</th>\n",
       "      <td>fit</td>\n",
       "      <td>34b</td>\n",
       "      <td>114.0</td>\n",
       "      <td>8.0</td>\n",
       "      <td>party: cocktail</td>\n",
       "      <td>petite</td>\n",
       "      <td>dress</td>\n",
       "      <td>5' 2\"</td>\n",
       "      <td>12</td>\n",
       "      <td>35.0</td>\n",
       "    </tr>\n",
       "  </tbody>\n",
       "</table>\n",
       "</div>"
      ],
      "text/plain": [
       "        fit bust size  weight  rating       rented for body type category  \\\n",
       "100942  fit       34b   114.0     8.0  party: cocktail    petite    dress   \n",
       "\n",
       "       height  size   age  \n",
       "100942  5' 2\"    12  35.0  "
      ]
     },
     "execution_count": 882,
     "metadata": {},
     "output_type": "execute_result"
    }
   ],
   "source": [
    "#Locating the row to be converted to the group party from party: cocktail\n",
    "df1.loc[df1['rented for'] == 'party: cocktail']"
   ]
  },
  {
   "cell_type": "code",
   "execution_count": 883,
   "id": "180566e1-9ef4-47be-9085-b3027023da3b",
   "metadata": {
    "id": "180566e1-9ef4-47be-9085-b3027023da3b"
   },
   "outputs": [],
   "source": [
    "#Removing the suffix from the category party: cocktail\n",
    "df1['rented for'] = df1['rented for'].str.removesuffix(\": cocktail\")"
   ]
  },
  {
   "cell_type": "code",
   "execution_count": 884,
   "id": "995758e4-018e-456d-80d1-eb8e2ed0bbc5",
   "metadata": {
    "id": "995758e4-018e-456d-80d1-eb8e2ed0bbc5",
    "outputId": "53d6c755-ea76-4c90-b4d9-eb818ebbc72b"
   },
   "outputs": [
    {
     "data": {
      "text/plain": [
       "rented for\n",
       "wedding          57794\n",
       "formal affair    40408\n",
       "party            35627\n",
       "everyday         16822\n",
       "other            15388\n",
       "work             15042\n",
       "date              7388\n",
       "vacation          4075\n",
       "Name: count, dtype: int64"
      ]
     },
     "execution_count": 884,
     "metadata": {},
     "output_type": "execute_result"
    }
   ],
   "source": [
    "#Checking the counts of unique values in a columns / feature\n",
    "df1['rented for'].value_counts()"
   ]
  },
  {
   "cell_type": "markdown",
   "id": "94e3c3f7-d7ad-45ef-b9ef-5561e4291938",
   "metadata": {
    "id": "94e3c3f7-d7ad-45ef-b9ef-5561e4291938"
   },
   "source": [
    "## 7. The column 'height' is in feet with a quotation mark, Convert to inches with float datatype. (3)"
   ]
  },
  {
   "cell_type": "code",
   "execution_count": 886,
   "id": "65760a27-1424-4a2a-9da1-271672268be5",
   "metadata": {
    "id": "65760a27-1424-4a2a-9da1-271672268be5",
    "outputId": "dd820e6c-18c5-4f67-e997-cb36155f8f9e"
   },
   "outputs": [
    {
     "data": {
      "text/plain": [
       "677"
      ]
     },
     "execution_count": 886,
     "metadata": {},
     "output_type": "execute_result"
    }
   ],
   "source": [
    "df1['height'].isnull().sum()"
   ]
  },
  {
   "cell_type": "code",
   "execution_count": 887,
   "id": "93a961e7-c0fd-43de-aaa4-0a2fce7ff0fd",
   "metadata": {
    "id": "93a961e7-c0fd-43de-aaa4-0a2fce7ff0fd",
    "outputId": "6048ad99-c105-4bda-944c-65d0b3be986b"
   },
   "outputs": [
    {
     "data": {
      "text/plain": [
       "0         5' 8\n",
       "1         5' 6\n",
       "2         5' 4\n",
       "3         5' 5\n",
       "4         5' 9\n",
       "          ... \n",
       "192539    5' 9\n",
       "192540    5' 1\n",
       "192541    5' 8\n",
       "192542    5' 6\n",
       "192543    5' 6\n",
       "Name: height, Length: 192544, dtype: object"
      ]
     },
     "execution_count": 887,
     "metadata": {},
     "output_type": "execute_result"
    }
   ],
   "source": [
    "#Removing Suffix (\")\n",
    "df1['height'] = df1['height'].str.removesuffix('\"')\n",
    "df1['height']"
   ]
  },
  {
   "cell_type": "code",
   "execution_count": 888,
   "id": "c65444e6-82b6-419e-bb33-25ca7d0b710c",
   "metadata": {
    "id": "c65444e6-82b6-419e-bb33-25ca7d0b710c",
    "outputId": "456fe6f8-db92-4ff8-d167-e1bbd31a20b6"
   },
   "outputs": [
    {
     "data": {
      "text/plain": [
       "0         5.8\n",
       "1         5.6\n",
       "2         5.4\n",
       "3         5.5\n",
       "4         5.9\n",
       "         ... \n",
       "192539    5.9\n",
       "192540    5.1\n",
       "192541    5.8\n",
       "192542    5.6\n",
       "192543    5.6\n",
       "Name: height, Length: 192544, dtype: object"
      ]
     },
     "execution_count": 888,
     "metadata": {},
     "output_type": "execute_result"
    }
   ],
   "source": [
    "#Replacing the ( ' ) with ( . )\n",
    "df1['height'] = df1['height'].str.replace('\\' ','.')\n",
    "df1['height']"
   ]
  },
  {
   "cell_type": "code",
   "execution_count": 889,
   "id": "d00507fe-0f9d-4815-b565-adf663bda5a7",
   "metadata": {
    "id": "d00507fe-0f9d-4815-b565-adf663bda5a7",
    "outputId": "710e1dc2-84d1-4fe6-e225-59739a1b105c"
   },
   "outputs": [
    {
     "data": {
      "text/plain": [
       "dtype('float32')"
      ]
     },
     "execution_count": 889,
     "metadata": {},
     "output_type": "execute_result"
    }
   ],
   "source": [
    "#Converting the datatype from object to integer datatype\n",
    "df1['height'] = df1['height'].astype('float32')\n",
    "df1['height'].dtype"
   ]
  },
  {
   "cell_type": "markdown",
   "id": "9d8709b4-2e86-4e8a-a809-10402dd3309d",
   "metadata": {
    "id": "9d8709b4-2e86-4e8a-a809-10402dd3309d"
   },
   "source": [
    "## 8. Check for missing values in each column of the dataset? If it exists, impute them with appropriate methods. (3)"
   ]
  },
  {
   "cell_type": "code",
   "execution_count": 891,
   "id": "d812d619-7bf6-40b4-9783-a16e48e344d9",
   "metadata": {},
   "outputs": [
    {
     "data": {
      "text/plain": [
       "192544"
      ]
     },
     "execution_count": 891,
     "metadata": {},
     "output_type": "execute_result"
    }
   ],
   "source": [
    "len(df)"
   ]
  },
  {
   "cell_type": "code",
   "execution_count": 892,
   "id": "8ecd3249-bbbe-4be7-a196-619d621150d3",
   "metadata": {
    "id": "8ecd3249-bbbe-4be7-a196-619d621150d3",
    "outputId": "4ede605a-5700-4c7b-aba4-72ed706c313c"
   },
   "outputs": [
    {
     "data": {
      "text/plain": [
       "fit           0.000000\n",
       "bust size     9.561970\n",
       "weight        0.000000\n",
       "rating        0.042588\n",
       "rented for    0.000000\n",
       "body type     7.601899\n",
       "category      0.000000\n",
       "height        0.351608\n",
       "size          0.000000\n",
       "age           0.498587\n",
       "dtype: float64"
      ]
     },
     "execution_count": 892,
     "metadata": {},
     "output_type": "execute_result"
    }
   ],
   "source": [
    "#Checking the percentage of missing values of each column\n",
    "df1.isna().sum() / len(df1) * 100"
   ]
  },
  {
   "cell_type": "code",
   "execution_count": 893,
   "id": "29dcb2d7-1c9e-4843-81f5-774f26b47110",
   "metadata": {
    "id": "29dcb2d7-1c9e-4843-81f5-774f26b47110",
    "outputId": "b80f81ad-afcf-42ac-9c35-25f877fbb925"
   },
   "outputs": [
    {
     "data": {
      "text/plain": [
       "fit               0\n",
       "bust size     18411\n",
       "weight            0\n",
       "rating           82\n",
       "rented for        0\n",
       "body type     14637\n",
       "category          0\n",
       "height          677\n",
       "size              0\n",
       "age             960\n",
       "dtype: int64"
      ]
     },
     "execution_count": 893,
     "metadata": {},
     "output_type": "execute_result"
    }
   ],
   "source": [
    "#sum of missing values of each column\n",
    "df1.isna().sum()"
   ]
  },
  {
   "cell_type": "code",
   "execution_count": 894,
   "id": "5be931f7-3641-490d-b806-28685df61896",
   "metadata": {
    "id": "5be931f7-3641-490d-b806-28685df61896",
    "outputId": "c45e8622-2fe8-44be-c163-ba0bbed93044"
   },
   "outputs": [
    {
     "data": {
      "text/plain": [
       "bust size\n",
       "34b    27285\n",
       "34c    23139\n",
       "34d    18029\n",
       "36c    13516\n",
       "32d    11196\n",
       "       ...  \n",
       "28h        1\n",
       "46f        1\n",
       "42j        1\n",
       "28i        1\n",
       "44h        1\n",
       "Name: count, Length: 106, dtype: int64"
      ]
     },
     "execution_count": 894,
     "metadata": {},
     "output_type": "execute_result"
    }
   ],
   "source": [
    "df1['bust size'].value_counts()"
   ]
  },
  {
   "cell_type": "code",
   "execution_count": 895,
   "id": "8a13d995-c960-43f8-baed-472bcd9fdc31",
   "metadata": {
    "id": "8a13d995-c960-43f8-baed-472bcd9fdc31"
   },
   "outputs": [],
   "source": [
    "#filling missing values of bust size with top 3 mode values of the feature\n",
    "\n",
    "df1['bust size'] = df1['bust size'].fillna('34b', limit=8137)\n",
    "df1['bust size'] = df1['bust size'].fillna('34c', limit=6137)\n",
    "df1['bust size'] = df1['bust size'].fillna('34d', limit=4137)"
   ]
  },
  {
   "cell_type": "code",
   "execution_count": 896,
   "id": "00837b76-22c6-4cf8-8e83-0f2241c9fd65",
   "metadata": {
    "id": "00837b76-22c6-4cf8-8e83-0f2241c9fd65",
    "outputId": "53bce8c6-8885-4455-8c96-c0f7ace5ad7b"
   },
   "outputs": [
    {
     "data": {
      "text/plain": [
       "bust size\n",
       "34b     35422\n",
       "34c     29276\n",
       "34d     22166\n",
       "36c     13516\n",
       "32d     11196\n",
       "36d     11122\n",
       "32b     10911\n",
       "32c      9943\n",
       "36b      9676\n",
       "34a      7891\n",
       "32a      5094\n",
       "38d      4259\n",
       "38c      2669\n",
       "34dd     2665\n",
       "36a      2087\n",
       "Name: count, dtype: int64"
      ]
     },
     "execution_count": 896,
     "metadata": {},
     "output_type": "execute_result"
    }
   ],
   "source": [
    "df1['bust size'].value_counts().head(15)"
   ]
  },
  {
   "cell_type": "code",
   "execution_count": 897,
   "id": "15017cd2-a87a-4404-a89a-8bf35d5412c4",
   "metadata": {
    "id": "15017cd2-a87a-4404-a89a-8bf35d5412c4",
    "outputId": "53d6716e-2978-4477-aee8-a490fda7da15"
   },
   "outputs": [
    {
     "data": {
      "text/plain": [
       "fit               0\n",
       "bust size         0\n",
       "weight            0\n",
       "rating            0\n",
       "rented for        0\n",
       "body type     14637\n",
       "category          0\n",
       "height          677\n",
       "size              0\n",
       "age             960\n",
       "dtype: int64"
      ]
     },
     "execution_count": 897,
     "metadata": {},
     "output_type": "execute_result"
    }
   ],
   "source": [
    "#Filling missing rating with mode of rating column\n",
    "df1['rating'] = df1['rating'].fillna(df1['rating'].mode()[0])\n",
    "df1.isna().sum()"
   ]
  },
  {
   "cell_type": "code",
   "execution_count": 898,
   "id": "9e7190ac-7391-43a3-8dc7-02ff313a3196",
   "metadata": {
    "id": "9e7190ac-7391-43a3-8dc7-02ff313a3196"
   },
   "outputs": [],
   "source": [
    "#Operation of filling the missing values on body type column"
   ]
  },
  {
   "cell_type": "code",
   "execution_count": 899,
   "id": "3be76250-8418-43c4-90d8-659dd02d0459",
   "metadata": {
    "id": "3be76250-8418-43c4-90d8-659dd02d0459"
   },
   "outputs": [],
   "source": [
    "df1['body type'] = df1['body type'].fillna('hourglass', limit=4000)\n",
    "df1['body type'] = df1['body type'].fillna('athletic', limit=4000)\n",
    "df1['body type'] = df1['body type'].fillna('pear',limit=4000)\n",
    "df1['body type'] = df1['body type'].fillna('petite')"
   ]
  },
  {
   "cell_type": "code",
   "execution_count": 900,
   "id": "1ac8b292-289e-4060-a80e-507a1ff1ce94",
   "metadata": {
    "id": "1ac8b292-289e-4060-a80e-507a1ff1ce94",
    "outputId": "3098ac06-3d34-4ede-ac3e-2264380255e9"
   },
   "outputs": [
    {
     "data": {
      "text/plain": [
       "body type\n",
       "hourglass            59349\n",
       "athletic             47667\n",
       "pear                 26135\n",
       "petite               24768\n",
       "full bust            15006\n",
       "straight & narrow    14742\n",
       "apple                 4877\n",
       "Name: count, dtype: int64"
      ]
     },
     "execution_count": 900,
     "metadata": {},
     "output_type": "execute_result"
    }
   ],
   "source": [
    "df1['body type'].value_counts()"
   ]
  },
  {
   "cell_type": "code",
   "execution_count": 901,
   "id": "a7fd4351-5573-4145-bf71-1e12fa0c8943",
   "metadata": {
    "id": "a7fd4351-5573-4145-bf71-1e12fa0c8943"
   },
   "outputs": [],
   "source": [
    "#Filling missing values of height which is close to the mean\n",
    "df1['height'] = df1['height'].fillna(5.5)"
   ]
  },
  {
   "cell_type": "code",
   "execution_count": 902,
   "id": "45458cd9-91ed-4dc6-9313-ba288fdae400",
   "metadata": {
    "id": "45458cd9-91ed-4dc6-9313-ba288fdae400",
    "outputId": "f74fd523-9be4-426a-82d3-bcb8a2a638d0"
   },
   "outputs": [
    {
     "data": {
      "text/plain": [
       "0"
      ]
     },
     "execution_count": 902,
     "metadata": {},
     "output_type": "execute_result"
    }
   ],
   "source": [
    "df1['height'].isna().sum()"
   ]
  },
  {
   "cell_type": "code",
   "execution_count": 903,
   "id": "4e09b436-e87f-4504-a386-09806b45f632",
   "metadata": {
    "id": "4e09b436-e87f-4504-a386-09806b45f632"
   },
   "outputs": [],
   "source": [
    "#filling missing values of age according to mean\n",
    "df1['age'] = df1['age'].fillna(33, limit = 480 )\n",
    "df1['age'] = df1['age'].fillna(34, limit = 480 )"
   ]
  },
  {
   "cell_type": "code",
   "execution_count": 904,
   "id": "1a5ba8a1-7866-490e-beb0-982bd59f6b82",
   "metadata": {
    "id": "1a5ba8a1-7866-490e-beb0-982bd59f6b82",
    "outputId": "daa92824-a75c-485f-f983-6a5588ab6753"
   },
   "outputs": [
    {
     "data": {
      "text/plain": [
       "0"
      ]
     },
     "execution_count": 904,
     "metadata": {},
     "output_type": "execute_result"
    }
   ],
   "source": [
    "df1['age'].isna().sum()"
   ]
  },
  {
   "cell_type": "code",
   "execution_count": 905,
   "id": "c96d87ff-b337-4d2e-a925-ec0d180eb2f7",
   "metadata": {
    "id": "c96d87ff-b337-4d2e-a925-ec0d180eb2f7",
    "outputId": "fc40b0ef-d137-4896-89ed-e03c675ba348"
   },
   "outputs": [
    {
     "data": {
      "text/plain": [
       "fit           0\n",
       "bust size     0\n",
       "weight        0\n",
       "rating        0\n",
       "rented for    0\n",
       "body type     0\n",
       "category      0\n",
       "height        0\n",
       "size          0\n",
       "age           0\n",
       "dtype: int64"
      ]
     },
     "execution_count": 905,
     "metadata": {},
     "output_type": "execute_result"
    }
   ],
   "source": [
    "df1.isna().sum()"
   ]
  },
  {
   "cell_type": "markdown",
   "id": "25b5f942-e214-467a-a84c-3b5a73c4a258",
   "metadata": {
    "id": "25b5f942-e214-467a-a84c-3b5a73c4a258"
   },
   "source": [
    "## 9. Check the statistical summary for the numerical and categorical columns and write your findings. (3)"
   ]
  },
  {
   "cell_type": "code",
   "execution_count": 907,
   "id": "24ac3935-21b6-47f8-89aa-0054bcc0110d",
   "metadata": {
    "id": "24ac3935-21b6-47f8-89aa-0054bcc0110d",
    "outputId": "b1db61c2-a430-46ed-9240-cef1119f077d"
   },
   "outputs": [
    {
     "data": {
      "text/html": [
       "<div>\n",
       "<style scoped>\n",
       "    .dataframe tbody tr th:only-of-type {\n",
       "        vertical-align: middle;\n",
       "    }\n",
       "\n",
       "    .dataframe tbody tr th {\n",
       "        vertical-align: top;\n",
       "    }\n",
       "\n",
       "    .dataframe thead th {\n",
       "        text-align: right;\n",
       "    }\n",
       "</style>\n",
       "<table border=\"1\" class=\"dataframe\">\n",
       "  <thead>\n",
       "    <tr style=\"text-align: right;\">\n",
       "      <th></th>\n",
       "      <th>count</th>\n",
       "      <th>mean</th>\n",
       "      <th>std</th>\n",
       "      <th>min</th>\n",
       "      <th>25%</th>\n",
       "      <th>50%</th>\n",
       "      <th>75%</th>\n",
       "      <th>max</th>\n",
       "    </tr>\n",
       "  </thead>\n",
       "  <tbody>\n",
       "    <tr>\n",
       "      <th>weight</th>\n",
       "      <td>192544.0</td>\n",
       "      <td>137.391709</td>\n",
       "      <td>20.122771</td>\n",
       "      <td>50.0</td>\n",
       "      <td>125.0</td>\n",
       "      <td>137.391709</td>\n",
       "      <td>145.0</td>\n",
       "      <td>300.0</td>\n",
       "    </tr>\n",
       "    <tr>\n",
       "      <th>rating</th>\n",
       "      <td>192544.0</td>\n",
       "      <td>9.092758</td>\n",
       "      <td>1.429862</td>\n",
       "      <td>2.0</td>\n",
       "      <td>8.0</td>\n",
       "      <td>10.000000</td>\n",
       "      <td>10.0</td>\n",
       "      <td>10.0</td>\n",
       "    </tr>\n",
       "    <tr>\n",
       "      <th>height</th>\n",
       "      <td>192544.0</td>\n",
       "      <td>5.475196</td>\n",
       "      <td>0.267472</td>\n",
       "      <td>4.1</td>\n",
       "      <td>5.3</td>\n",
       "      <td>5.500000</td>\n",
       "      <td>5.7</td>\n",
       "      <td>6.6</td>\n",
       "    </tr>\n",
       "    <tr>\n",
       "      <th>size</th>\n",
       "      <td>192544.0</td>\n",
       "      <td>12.245175</td>\n",
       "      <td>8.494877</td>\n",
       "      <td>0.0</td>\n",
       "      <td>8.0</td>\n",
       "      <td>12.000000</td>\n",
       "      <td>16.0</td>\n",
       "      <td>58.0</td>\n",
       "    </tr>\n",
       "    <tr>\n",
       "      <th>age</th>\n",
       "      <td>192544.0</td>\n",
       "      <td>33.869168</td>\n",
       "      <td>8.038089</td>\n",
       "      <td>0.0</td>\n",
       "      <td>29.0</td>\n",
       "      <td>32.000000</td>\n",
       "      <td>37.0</td>\n",
       "      <td>117.0</td>\n",
       "    </tr>\n",
       "  </tbody>\n",
       "</table>\n",
       "</div>"
      ],
      "text/plain": [
       "           count        mean        std   min    25%         50%    75%    max\n",
       "weight  192544.0  137.391709  20.122771  50.0  125.0  137.391709  145.0  300.0\n",
       "rating  192544.0    9.092758   1.429862   2.0    8.0   10.000000   10.0   10.0\n",
       "height  192544.0    5.475196   0.267472   4.1    5.3    5.500000    5.7    6.6\n",
       "size    192544.0   12.245175   8.494877   0.0    8.0   12.000000   16.0   58.0\n",
       "age     192544.0   33.869168   8.038089   0.0   29.0   32.000000   37.0  117.0"
      ]
     },
     "execution_count": 907,
     "metadata": {},
     "output_type": "execute_result"
    }
   ],
   "source": [
    "df1.describe().T"
   ]
  },
  {
   "cell_type": "code",
   "execution_count": 908,
   "id": "1a6601a6-6494-4c8c-800e-01dcb10755c1",
   "metadata": {
    "id": "1a6601a6-6494-4c8c-800e-01dcb10755c1",
    "outputId": "1d5dc24f-513c-427f-900e-ac318f812efe"
   },
   "outputs": [
    {
     "data": {
      "text/html": [
       "<div>\n",
       "<style scoped>\n",
       "    .dataframe tbody tr th:only-of-type {\n",
       "        vertical-align: middle;\n",
       "    }\n",
       "\n",
       "    .dataframe tbody tr th {\n",
       "        vertical-align: top;\n",
       "    }\n",
       "\n",
       "    .dataframe thead th {\n",
       "        text-align: right;\n",
       "    }\n",
       "</style>\n",
       "<table border=\"1\" class=\"dataframe\">\n",
       "  <thead>\n",
       "    <tr style=\"text-align: right;\">\n",
       "      <th></th>\n",
       "      <th>count</th>\n",
       "      <th>unique</th>\n",
       "      <th>top</th>\n",
       "      <th>freq</th>\n",
       "    </tr>\n",
       "  </thead>\n",
       "  <tbody>\n",
       "    <tr>\n",
       "      <th>fit</th>\n",
       "      <td>192544</td>\n",
       "      <td>3</td>\n",
       "      <td>fit</td>\n",
       "      <td>142058</td>\n",
       "    </tr>\n",
       "    <tr>\n",
       "      <th>bust size</th>\n",
       "      <td>192544</td>\n",
       "      <td>106</td>\n",
       "      <td>34b</td>\n",
       "      <td>35422</td>\n",
       "    </tr>\n",
       "    <tr>\n",
       "      <th>rented for</th>\n",
       "      <td>192544</td>\n",
       "      <td>8</td>\n",
       "      <td>wedding</td>\n",
       "      <td>57794</td>\n",
       "    </tr>\n",
       "    <tr>\n",
       "      <th>body type</th>\n",
       "      <td>192544</td>\n",
       "      <td>7</td>\n",
       "      <td>hourglass</td>\n",
       "      <td>59349</td>\n",
       "    </tr>\n",
       "    <tr>\n",
       "      <th>category</th>\n",
       "      <td>192544</td>\n",
       "      <td>68</td>\n",
       "      <td>dress</td>\n",
       "      <td>92884</td>\n",
       "    </tr>\n",
       "  </tbody>\n",
       "</table>\n",
       "</div>"
      ],
      "text/plain": [
       "             count unique        top    freq\n",
       "fit         192544      3        fit  142058\n",
       "bust size   192544    106        34b   35422\n",
       "rented for  192544      8    wedding   57794\n",
       "body type   192544      7  hourglass   59349\n",
       "category    192544     68      dress   92884"
      ]
     },
     "execution_count": 908,
     "metadata": {},
     "output_type": "execute_result"
    }
   ],
   "source": [
    "df1.describe(include='O').T"
   ]
  },
  {
   "cell_type": "markdown",
   "id": "8c5ce82e-6ccf-41c1-8dc8-20d872927075",
   "metadata": {
    "id": "8c5ce82e-6ccf-41c1-8dc8-20d872927075"
   },
   "source": [
    "## 10. Are there outliers present in the column age? If yes, treat them with the appropriate method. (3)"
   ]
  },
  {
   "cell_type": "code",
   "execution_count": 910,
   "id": "1c53bfc6-75b0-4324-a1a7-7f4e1a3107e4",
   "metadata": {
    "id": "1c53bfc6-75b0-4324-a1a7-7f4e1a3107e4",
    "outputId": "18918016-8cd2-496c-eb10-927a90acd65d"
   },
   "outputs": [
    {
     "data": {
      "text/plain": [
       "<Axes: >"
      ]
     },
     "execution_count": 910,
     "metadata": {},
     "output_type": "execute_result"
    },
    {
     "data": {
      "image/png": "[encoded data removed]",
      "text/plain": [
       "<Figure size 640x480 with 1 Axes>"
      ]
     },
     "metadata": {},
     "output_type": "display_data"
    }
   ],
   "source": [
    "df1['age'].plot(kind='box')"
   ]
  },
  {
   "cell_type": "code",
   "execution_count": 911,
   "id": "ad7e5a0e-a7e8-4a7d-afca-5e21c35281a5",
   "metadata": {
    "id": "ad7e5a0e-a7e8-4a7d-afca-5e21c35281a5",
    "outputId": "e859f8fe-3e06-429d-faf1-cd65972e99b8"
   },
   "outputs": [
    {
     "data": {
      "text/plain": [
       "<Axes: xlabel='age', ylabel='Density'>"
      ]
     },
     "execution_count": 911,
     "metadata": {},
     "output_type": "execute_result"
    },
    {
     "data": {
      "image/png": "[encoded data removed]",
      "text/plain": [
       "<Figure size 640x480 with 1 Axes>"
      ]
     },
     "metadata": {},
     "output_type": "display_data"
    }
   ],
   "source": [
    "sns.kdeplot(df1['age'])"
   ]
  },
  {
   "cell_type": "code",
   "execution_count": null,
   "id": "eec21dc2-e480-4595-9d4c-2024f5f5c56d",
   "metadata": {
    "id": "eec21dc2-e480-4595-9d4c-2024f5f5c56d"
   },
   "outputs": [],
   "source": []
  },
  {
   "cell_type": "code",
   "execution_count": 912,
   "id": "aed07fae-16b3-40a1-a6ae-086c692bc0fb",
   "metadata": {
    "id": "aed07fae-16b3-40a1-a6ae-086c692bc0fb",
    "outputId": "19a5c256-be0b-4126-b179-9741226de8ab"
   },
   "outputs": [
    {
     "name": "stdout",
     "output_type": "stream",
     "text": [
      "IQR 8.0\n",
      "Lower 17.0\n",
      "Upper 49.0\n"
     ]
    }
   ],
   "source": [
    "Q1 = df1['age'].quantile(0.25)\n",
    "Q3 = df1['age'].quantile(0.75)\n",
    "\n",
    "IQR = Q3 - Q1\n",
    "\n",
    "lower_whisker = Q1 - (1.5 * IQR)\n",
    "upper_whisker = Q3 + (1.5 * IQR)\n",
    "\n",
    "print('IQR',IQR)\n",
    "print('Lower',lower_whisker)\n",
    "print('Upper',upper_whisker)\n",
    "\n"
   ]
  },
  {
   "cell_type": "code",
   "execution_count": 913,
   "id": "033be09d-8221-41b1-a841-1bef0c40c67f",
   "metadata": {
    "id": "033be09d-8221-41b1-a841-1bef0c40c67f",
    "outputId": "6aadd3d2-b650-4782-8543-184bb627b1e1"
   },
   "outputs": [
    {
     "data": {
      "text/plain": [
       "0         28.0\n",
       "1         36.0\n",
       "3         34.0\n",
       "4         27.0\n",
       "5         45.0\n",
       "          ... \n",
       "192539    42.0\n",
       "192540    29.0\n",
       "192541    31.0\n",
       "192542    31.0\n",
       "192543    30.0\n",
       "Name: age, Length: 180708, dtype: float64"
      ]
     },
     "execution_count": 913,
     "metadata": {},
     "output_type": "execute_result"
    }
   ],
   "source": [
    "dfnew = df1.loc[(df1['age']>lower_whisker) & (df1['age'] < upper_whisker)]\n",
    "dfnew['age']"
   ]
  },
  {
   "cell_type": "code",
   "execution_count": 914,
   "id": "ac397480-39bc-4b24-aa4a-39ff3ae08f68",
   "metadata": {
    "id": "ac397480-39bc-4b24-aa4a-39ff3ae08f68",
    "outputId": "4346a24e-2705-4710-b6fb-26f00fdfb727"
   },
   "outputs": [
    {
     "data": {
      "text/plain": [
       "<Axes: >"
      ]
     },
     "execution_count": 914,
     "metadata": {},
     "output_type": "execute_result"
    },
    {
     "data": {
      "image/png": "[encoded data removed]",
      "text/plain": [
       "<Figure size 640x480 with 1 Axes>"
      ]
     },
     "metadata": {},
     "output_type": "display_data"
    }
   ],
   "source": [
    "dfnew['age'].plot(kind='box')"
   ]
  },
  {
   "cell_type": "code",
   "execution_count": 915,
   "id": "564960c9-9d79-48b1-8102-9ee9efc32f02",
   "metadata": {
    "id": "564960c9-9d79-48b1-8102-9ee9efc32f02",
    "outputId": "7c69f72a-a834-4598-c0d8-88126e03a393"
   },
   "outputs": [
    {
     "data": {
      "text/plain": [
       "(192544, 10)"
      ]
     },
     "execution_count": 915,
     "metadata": {},
     "output_type": "execute_result"
    }
   ],
   "source": [
    "df1.shape"
   ]
  },
  {
   "cell_type": "code",
   "execution_count": 916,
   "id": "bdd7e32a-5cdf-426a-bcf5-51463c712aff",
   "metadata": {
    "id": "bdd7e32a-5cdf-426a-bcf5-51463c712aff",
    "outputId": "14967d11-b9e6-48f8-d18c-5bbee0d2d759"
   },
   "outputs": [
    {
     "data": {
      "text/plain": [
       "<Axes: xlabel='age', ylabel='Density'>"
      ]
     },
     "execution_count": 916,
     "metadata": {},
     "output_type": "execute_result"
    },
    {
     "data": {
      "image/png": "[encoded data removed]",
      "text/plain": [
       "<Figure size 800x600 with 1 Axes>"
      ]
     },
     "metadata": {},
     "output_type": "display_data"
    }
   ],
   "source": [
    "plt.figure(figsize=(8,6))\n",
    "sns.kdeplot(dfnew['age'])"
   ]
  },
  {
   "cell_type": "markdown",
   "id": "29ee98cc-d582-4267-ab7a-192338141686",
   "metadata": {
    "id": "29ee98cc-d582-4267-ab7a-192338141686"
   },
   "source": [
    "## 11. Check the distribution of the different categories in the column 'rented for' using appropriate plot. (2)"
   ]
  },
  {
   "cell_type": "code",
   "execution_count": 918,
   "id": "ee7b2c39-dbd7-4c40-8c71-f51f4ef79349",
   "metadata": {
    "id": "ee7b2c39-dbd7-4c40-8c71-f51f4ef79349",
    "outputId": "38b99c2a-2c15-4082-87f3-67da73d2e74d"
   },
   "outputs": [
    {
     "data": {
      "image/png": "[encoded data removed]",
      "text/plain": [
       "<Figure size 640x480 with 1 Axes>"
      ]
     },
     "metadata": {},
     "output_type": "display_data"
    }
   ],
   "source": [
    "dfnew['rented for'].value_counts().plot(kind='bar',color='slategray')\n",
    "plt.xticks(rotation =45)\n",
    "\n",
    "plt.ylabel('Count of the Category')\n",
    "plt.title(\"Showing the Distribution of Rented for\")\n",
    "plt.show()"
   ]
  },
  {
   "cell_type": "markdown",
   "id": "fe4a1075-3ff4-417c-9f3c-b0c05b822a71",
   "metadata": {
    "id": "fe4a1075-3ff4-417c-9f3c-b0c05b822a71"
   },
   "source": [
    "## 12. Encode the categorical variables in the dataset. (1)"
   ]
  },
  {
   "cell_type": "code",
   "execution_count": 920,
   "id": "bd0b8c16-d290-4bbf-ae97-d9850d756f29",
   "metadata": {},
   "outputs": [
    {
     "data": {
      "text/html": [
       "<div>\n",
       "<style scoped>\n",
       "    .dataframe tbody tr th:only-of-type {\n",
       "        vertical-align: middle;\n",
       "    }\n",
       "\n",
       "    .dataframe tbody tr th {\n",
       "        vertical-align: top;\n",
       "    }\n",
       "\n",
       "    .dataframe thead th {\n",
       "        text-align: right;\n",
       "    }\n",
       "</style>\n",
       "<table border=\"1\" class=\"dataframe\">\n",
       "  <thead>\n",
       "    <tr style=\"text-align: right;\">\n",
       "      <th></th>\n",
       "      <th>fit</th>\n",
       "      <th>bust size</th>\n",
       "      <th>weight</th>\n",
       "      <th>rating</th>\n",
       "      <th>rented for</th>\n",
       "      <th>body type</th>\n",
       "      <th>category</th>\n",
       "      <th>height</th>\n",
       "      <th>size</th>\n",
       "      <th>age</th>\n",
       "    </tr>\n",
       "  </thead>\n",
       "  <tbody>\n",
       "    <tr>\n",
       "      <th>0</th>\n",
       "      <td>fit</td>\n",
       "      <td>34d</td>\n",
       "      <td>137.000000</td>\n",
       "      <td>10.0</td>\n",
       "      <td>vacation</td>\n",
       "      <td>hourglass</td>\n",
       "      <td>romper</td>\n",
       "      <td>5.8</td>\n",
       "      <td>14</td>\n",
       "      <td>28.0</td>\n",
       "    </tr>\n",
       "    <tr>\n",
       "      <th>1</th>\n",
       "      <td>fit</td>\n",
       "      <td>34b</td>\n",
       "      <td>132.000000</td>\n",
       "      <td>10.0</td>\n",
       "      <td>other</td>\n",
       "      <td>straight &amp; narrow</td>\n",
       "      <td>gown</td>\n",
       "      <td>5.6</td>\n",
       "      <td>12</td>\n",
       "      <td>36.0</td>\n",
       "    </tr>\n",
       "    <tr>\n",
       "      <th>2</th>\n",
       "      <td>fit</td>\n",
       "      <td>34b</td>\n",
       "      <td>137.391709</td>\n",
       "      <td>10.0</td>\n",
       "      <td>party</td>\n",
       "      <td>hourglass</td>\n",
       "      <td>sheath</td>\n",
       "      <td>5.4</td>\n",
       "      <td>4</td>\n",
       "      <td>116.0</td>\n",
       "    </tr>\n",
       "    <tr>\n",
       "      <th>3</th>\n",
       "      <td>fit</td>\n",
       "      <td>34c</td>\n",
       "      <td>135.000000</td>\n",
       "      <td>8.0</td>\n",
       "      <td>formal affair</td>\n",
       "      <td>pear</td>\n",
       "      <td>dress</td>\n",
       "      <td>5.5</td>\n",
       "      <td>8</td>\n",
       "      <td>34.0</td>\n",
       "    </tr>\n",
       "    <tr>\n",
       "      <th>4</th>\n",
       "      <td>fit</td>\n",
       "      <td>34b</td>\n",
       "      <td>145.000000</td>\n",
       "      <td>10.0</td>\n",
       "      <td>wedding</td>\n",
       "      <td>athletic</td>\n",
       "      <td>gown</td>\n",
       "      <td>5.9</td>\n",
       "      <td>12</td>\n",
       "      <td>27.0</td>\n",
       "    </tr>\n",
       "  </tbody>\n",
       "</table>\n",
       "</div>"
      ],
      "text/plain": [
       "   fit bust size      weight  rating     rented for          body type  \\\n",
       "0  fit       34d  137.000000    10.0       vacation          hourglass   \n",
       "1  fit       34b  132.000000    10.0          other  straight & narrow   \n",
       "2  fit       34b  137.391709    10.0          party          hourglass   \n",
       "3  fit       34c  135.000000     8.0  formal affair               pear   \n",
       "4  fit       34b  145.000000    10.0        wedding           athletic   \n",
       "\n",
       "  category  height  size    age  \n",
       "0   romper     5.8    14   28.0  \n",
       "1     gown     5.6    12   36.0  \n",
       "2   sheath     5.4     4  116.0  \n",
       "3    dress     5.5     8   34.0  \n",
       "4     gown     5.9    12   27.0  "
      ]
     },
     "execution_count": 920,
     "metadata": {},
     "output_type": "execute_result"
    }
   ],
   "source": [
    "df1.head(5)"
   ]
  },
  {
   "cell_type": "code",
   "execution_count": 921,
   "id": "f6755212-7a44-43f5-833e-28c0922da4b3",
   "metadata": {
    "id": "f6755212-7a44-43f5-833e-28c0922da4b3",
    "outputId": "1db3e487-f025-4cb9-d914-9c3bd1ebbfd5"
   },
   "outputs": [
    {
     "data": {
      "text/html": [
       "<div>\n",
       "<style scoped>\n",
       "    .dataframe tbody tr th:only-of-type {\n",
       "        vertical-align: middle;\n",
       "    }\n",
       "\n",
       "    .dataframe tbody tr th {\n",
       "        vertical-align: top;\n",
       "    }\n",
       "\n",
       "    .dataframe thead th {\n",
       "        text-align: right;\n",
       "    }\n",
       "</style>\n",
       "<table border=\"1\" class=\"dataframe\">\n",
       "  <thead>\n",
       "    <tr style=\"text-align: right;\">\n",
       "      <th></th>\n",
       "      <th>fit</th>\n",
       "      <th>bust size</th>\n",
       "      <th>weight</th>\n",
       "      <th>rating</th>\n",
       "      <th>rented for</th>\n",
       "      <th>body type</th>\n",
       "      <th>category</th>\n",
       "      <th>height</th>\n",
       "      <th>size</th>\n",
       "      <th>age</th>\n",
       "    </tr>\n",
       "  </thead>\n",
       "  <tbody>\n",
       "    <tr>\n",
       "      <th>0</th>\n",
       "      <td>0</td>\n",
       "      <td>39</td>\n",
       "      <td>137.000000</td>\n",
       "      <td>10.0</td>\n",
       "      <td>5</td>\n",
       "      <td>3</td>\n",
       "      <td>44</td>\n",
       "      <td>5.8</td>\n",
       "      <td>14</td>\n",
       "      <td>28.0</td>\n",
       "    </tr>\n",
       "    <tr>\n",
       "      <th>1</th>\n",
       "      <td>0</td>\n",
       "      <td>37</td>\n",
       "      <td>132.000000</td>\n",
       "      <td>10.0</td>\n",
       "      <td>3</td>\n",
       "      <td>6</td>\n",
       "      <td>20</td>\n",
       "      <td>5.6</td>\n",
       "      <td>12</td>\n",
       "      <td>36.0</td>\n",
       "    </tr>\n",
       "    <tr>\n",
       "      <th>2</th>\n",
       "      <td>0</td>\n",
       "      <td>37</td>\n",
       "      <td>137.391709</td>\n",
       "      <td>10.0</td>\n",
       "      <td>4</td>\n",
       "      <td>3</td>\n",
       "      <td>45</td>\n",
       "      <td>5.4</td>\n",
       "      <td>4</td>\n",
       "      <td>116.0</td>\n",
       "    </tr>\n",
       "    <tr>\n",
       "      <th>3</th>\n",
       "      <td>0</td>\n",
       "      <td>38</td>\n",
       "      <td>135.000000</td>\n",
       "      <td>8.0</td>\n",
       "      <td>2</td>\n",
       "      <td>4</td>\n",
       "      <td>16</td>\n",
       "      <td>5.5</td>\n",
       "      <td>8</td>\n",
       "      <td>34.0</td>\n",
       "    </tr>\n",
       "    <tr>\n",
       "      <th>4</th>\n",
       "      <td>0</td>\n",
       "      <td>37</td>\n",
       "      <td>145.000000</td>\n",
       "      <td>10.0</td>\n",
       "      <td>6</td>\n",
       "      <td>1</td>\n",
       "      <td>20</td>\n",
       "      <td>5.9</td>\n",
       "      <td>12</td>\n",
       "      <td>27.0</td>\n",
       "    </tr>\n",
       "    <tr>\n",
       "      <th>5</th>\n",
       "      <td>0</td>\n",
       "      <td>24</td>\n",
       "      <td>138.000000</td>\n",
       "      <td>8.0</td>\n",
       "      <td>0</td>\n",
       "      <td>1</td>\n",
       "      <td>16</td>\n",
       "      <td>5.8</td>\n",
       "      <td>8</td>\n",
       "      <td>45.0</td>\n",
       "    </tr>\n",
       "    <tr>\n",
       "      <th>6</th>\n",
       "      <td>0</td>\n",
       "      <td>38</td>\n",
       "      <td>112.000000</td>\n",
       "      <td>10.0</td>\n",
       "      <td>1</td>\n",
       "      <td>3</td>\n",
       "      <td>16</td>\n",
       "      <td>5.3</td>\n",
       "      <td>4</td>\n",
       "      <td>27.0</td>\n",
       "    </tr>\n",
       "    <tr>\n",
       "      <th>7</th>\n",
       "      <td>0</td>\n",
       "      <td>40</td>\n",
       "      <td>118.000000</td>\n",
       "      <td>10.0</td>\n",
       "      <td>2</td>\n",
       "      <td>2</td>\n",
       "      <td>16</td>\n",
       "      <td>5.3</td>\n",
       "      <td>8</td>\n",
       "      <td>65.0</td>\n",
       "    </tr>\n",
       "    <tr>\n",
       "      <th>8</th>\n",
       "      <td>0</td>\n",
       "      <td>52</td>\n",
       "      <td>137.391709</td>\n",
       "      <td>10.0</td>\n",
       "      <td>2</td>\n",
       "      <td>2</td>\n",
       "      <td>20</td>\n",
       "      <td>5.6</td>\n",
       "      <td>21</td>\n",
       "      <td>27.0</td>\n",
       "    </tr>\n",
       "    <tr>\n",
       "      <th>9</th>\n",
       "      <td>0</td>\n",
       "      <td>24</td>\n",
       "      <td>114.000000</td>\n",
       "      <td>10.0</td>\n",
       "      <td>2</td>\n",
       "      <td>5</td>\n",
       "      <td>20</td>\n",
       "      <td>5.3</td>\n",
       "      <td>1</td>\n",
       "      <td>33.0</td>\n",
       "    </tr>\n",
       "  </tbody>\n",
       "</table>\n",
       "</div>"
      ],
      "text/plain": [
       "   fit  bust size      weight  rating  rented for  body type  category  \\\n",
       "0    0         39  137.000000    10.0           5          3        44   \n",
       "1    0         37  132.000000    10.0           3          6        20   \n",
       "2    0         37  137.391709    10.0           4          3        45   \n",
       "3    0         38  135.000000     8.0           2          4        16   \n",
       "4    0         37  145.000000    10.0           6          1        20   \n",
       "5    0         24  138.000000     8.0           0          1        16   \n",
       "6    0         38  112.000000    10.0           1          3        16   \n",
       "7    0         40  118.000000    10.0           2          2        16   \n",
       "8    0         52  137.391709    10.0           2          2        20   \n",
       "9    0         24  114.000000    10.0           2          5        20   \n",
       "\n",
       "   height  size    age  \n",
       "0     5.8    14   28.0  \n",
       "1     5.6    12   36.0  \n",
       "2     5.4     4  116.0  \n",
       "3     5.5     8   34.0  \n",
       "4     5.9    12   27.0  \n",
       "5     5.8     8   45.0  \n",
       "6     5.3     4   27.0  \n",
       "7     5.3     8   65.0  \n",
       "8     5.6    21   27.0  \n",
       "9     5.3     1   33.0  "
      ]
     },
     "execution_count": 921,
     "metadata": {},
     "output_type": "execute_result"
    }
   ],
   "source": [
    "#Encoding the categorical variables by LabelEncoder\n",
    "df1[['fit','bust size','rented for','body type','category']]= df1[['fit','bust size','rented for',\n",
    "                                                                   'body type','category']].apply(LabelEncoder().fit_transform)\n",
    "df1.head(10)\n"
   ]
  },
  {
   "cell_type": "markdown",
   "id": "e88b96df-24bb-4677-8c2b-5c9949c88c3c",
   "metadata": {
    "id": "e88b96df-24bb-4677-8c2b-5c9949c88c3c"
   },
   "source": [
    "## 13. Standardize the data, so that the values are within a particular range. (1)"
   ]
  },
  {
   "cell_type": "code",
   "execution_count": 923,
   "id": "7be7f517-e00b-4e40-969a-a68fa214852e",
   "metadata": {},
   "outputs": [],
   "source": [
    "sc = StandardScaler()"
   ]
  },
  {
   "cell_type": "code",
   "execution_count": 924,
   "id": "3e1c172d-4ddc-4f69-87c9-8471b6f71121",
   "metadata": {
    "id": "3e1c172d-4ddc-4f69-87c9-8471b6f71121",
    "outputId": "d8bbf7e6-8195-4a30-a1f4-97c85425391f"
   },
   "outputs": [
    {
     "name": "stdout",
     "output_type": "stream",
     "text": [
      "2\n"
     ]
    },
    {
     "data": {
      "text/html": [
       "<div>\n",
       "<style scoped>\n",
       "    .dataframe tbody tr th:only-of-type {\n",
       "        vertical-align: middle;\n",
       "    }\n",
       "\n",
       "    .dataframe tbody tr th {\n",
       "        vertical-align: top;\n",
       "    }\n",
       "\n",
       "    .dataframe thead th {\n",
       "        text-align: right;\n",
       "    }\n",
       "</style>\n",
       "<table border=\"1\" class=\"dataframe\">\n",
       "  <thead>\n",
       "    <tr style=\"text-align: right;\">\n",
       "      <th></th>\n",
       "      <th>fit</th>\n",
       "      <th>bust size</th>\n",
       "      <th>weight</th>\n",
       "      <th>rating</th>\n",
       "      <th>rented for</th>\n",
       "      <th>body type</th>\n",
       "      <th>category</th>\n",
       "      <th>height</th>\n",
       "      <th>size</th>\n",
       "      <th>age</th>\n",
       "    </tr>\n",
       "  </thead>\n",
       "  <tbody>\n",
       "    <tr>\n",
       "      <th>0</th>\n",
       "      <td>-0.556291</td>\n",
       "      <td>-0.011482</td>\n",
       "      <td>-1.946601e-02</td>\n",
       "      <td>0.634498</td>\n",
       "      <td>0.514420</td>\n",
       "      <td>0.016235</td>\n",
       "      <td>1.569310</td>\n",
       "      <td>1.214641</td>\n",
       "      <td>0.206575</td>\n",
       "      <td>-0.730171</td>\n",
       "    </tr>\n",
       "    <tr>\n",
       "      <th>1</th>\n",
       "      <td>-0.556291</td>\n",
       "      <td>-0.194200</td>\n",
       "      <td>-2.679414e-01</td>\n",
       "      <td>0.634498</td>\n",
       "      <td>-0.456753</td>\n",
       "      <td>1.864422</td>\n",
       "      <td>-0.307247</td>\n",
       "      <td>0.466718</td>\n",
       "      <td>-0.028862</td>\n",
       "      <td>0.265093</td>\n",
       "    </tr>\n",
       "    <tr>\n",
       "      <th>2</th>\n",
       "      <td>-0.556291</td>\n",
       "      <td>-0.194200</td>\n",
       "      <td>-1.412419e-15</td>\n",
       "      <td>0.634498</td>\n",
       "      <td>0.028833</td>\n",
       "      <td>0.016235</td>\n",
       "      <td>1.647500</td>\n",
       "      <td>-0.281204</td>\n",
       "      <td>-0.970608</td>\n",
       "      <td>10.217732</td>\n",
       "    </tr>\n",
       "    <tr>\n",
       "      <th>3</th>\n",
       "      <td>-0.556291</td>\n",
       "      <td>-0.102841</td>\n",
       "      <td>-1.188562e-01</td>\n",
       "      <td>-0.764242</td>\n",
       "      <td>-0.942340</td>\n",
       "      <td>0.632297</td>\n",
       "      <td>-0.620006</td>\n",
       "      <td>0.092757</td>\n",
       "      <td>-0.499735</td>\n",
       "      <td>0.016277</td>\n",
       "    </tr>\n",
       "    <tr>\n",
       "      <th>4</th>\n",
       "      <td>-0.556291</td>\n",
       "      <td>-0.194200</td>\n",
       "      <td>3.780946e-01</td>\n",
       "      <td>0.634498</td>\n",
       "      <td>1.000007</td>\n",
       "      <td>-1.215890</td>\n",
       "      <td>-0.307247</td>\n",
       "      <td>1.588602</td>\n",
       "      <td>-0.028862</td>\n",
       "      <td>-0.854579</td>\n",
       "    </tr>\n",
       "    <tr>\n",
       "      <th>...</th>\n",
       "      <td>...</td>\n",
       "      <td>...</td>\n",
       "      <td>...</td>\n",
       "      <td>...</td>\n",
       "      <td>...</td>\n",
       "      <td>...</td>\n",
       "      <td>...</td>\n",
       "      <td>...</td>\n",
       "      <td>...</td>\n",
       "      <td>...</td>\n",
       "    </tr>\n",
       "    <tr>\n",
       "      <th>192539</th>\n",
       "      <td>-0.556291</td>\n",
       "      <td>0.171237</td>\n",
       "      <td>1.296192e-01</td>\n",
       "      <td>0.634498</td>\n",
       "      <td>1.485593</td>\n",
       "      <td>0.016235</td>\n",
       "      <td>0.161892</td>\n",
       "      <td>1.588602</td>\n",
       "      <td>-0.499735</td>\n",
       "      <td>1.011541</td>\n",
       "    </tr>\n",
       "    <tr>\n",
       "      <th>192540</th>\n",
       "      <td>-0.556291</td>\n",
       "      <td>-1.290513</td>\n",
       "      <td>-1.858184e+00</td>\n",
       "      <td>0.634498</td>\n",
       "      <td>1.485593</td>\n",
       "      <td>1.248360</td>\n",
       "      <td>-0.620006</td>\n",
       "      <td>-1.403089</td>\n",
       "      <td>-0.970608</td>\n",
       "      <td>-0.605763</td>\n",
       "    </tr>\n",
       "    <tr>\n",
       "      <th>192541</th>\n",
       "      <td>-0.556291</td>\n",
       "      <td>0.810753</td>\n",
       "      <td>-1.188562e-01</td>\n",
       "      <td>-2.162982</td>\n",
       "      <td>-1.427926</td>\n",
       "      <td>1.864422</td>\n",
       "      <td>-0.620006</td>\n",
       "      <td>1.214641</td>\n",
       "      <td>-0.499735</td>\n",
       "      <td>-0.356947</td>\n",
       "    </tr>\n",
       "    <tr>\n",
       "      <th>192542</th>\n",
       "      <td>-0.556291</td>\n",
       "      <td>1.084831</td>\n",
       "      <td>1.371996e+00</td>\n",
       "      <td>0.634498</td>\n",
       "      <td>1.000007</td>\n",
       "      <td>0.632297</td>\n",
       "      <td>-0.620006</td>\n",
       "      <td>0.466718</td>\n",
       "      <td>0.442012</td>\n",
       "      <td>-0.356947</td>\n",
       "    </tr>\n",
       "    <tr>\n",
       "      <th>192543</th>\n",
       "      <td>-0.556291</td>\n",
       "      <td>0.993472</td>\n",
       "      <td>8.750453e-01</td>\n",
       "      <td>0.634498</td>\n",
       "      <td>1.000007</td>\n",
       "      <td>-1.215890</td>\n",
       "      <td>-0.307247</td>\n",
       "      <td>0.466718</td>\n",
       "      <td>0.442012</td>\n",
       "      <td>-0.481355</td>\n",
       "    </tr>\n",
       "  </tbody>\n",
       "</table>\n",
       "<p>192544 rows × 10 columns</p>\n",
       "</div>"
      ],
      "text/plain": [
       "             fit  bust size        weight    rating  rented for  body type  \\\n",
       "0      -0.556291  -0.011482 -1.946601e-02  0.634498    0.514420   0.016235   \n",
       "1      -0.556291  -0.194200 -2.679414e-01  0.634498   -0.456753   1.864422   \n",
       "2      -0.556291  -0.194200 -1.412419e-15  0.634498    0.028833   0.016235   \n",
       "3      -0.556291  -0.102841 -1.188562e-01 -0.764242   -0.942340   0.632297   \n",
       "4      -0.556291  -0.194200  3.780946e-01  0.634498    1.000007  -1.215890   \n",
       "...          ...        ...           ...       ...         ...        ...   \n",
       "192539 -0.556291   0.171237  1.296192e-01  0.634498    1.485593   0.016235   \n",
       "192540 -0.556291  -1.290513 -1.858184e+00  0.634498    1.485593   1.248360   \n",
       "192541 -0.556291   0.810753 -1.188562e-01 -2.162982   -1.427926   1.864422   \n",
       "192542 -0.556291   1.084831  1.371996e+00  0.634498    1.000007   0.632297   \n",
       "192543 -0.556291   0.993472  8.750453e-01  0.634498    1.000007  -1.215890   \n",
       "\n",
       "        category    height      size        age  \n",
       "0       1.569310  1.214641  0.206575  -0.730171  \n",
       "1      -0.307247  0.466718 -0.028862   0.265093  \n",
       "2       1.647500 -0.281204 -0.970608  10.217732  \n",
       "3      -0.620006  0.092757 -0.499735   0.016277  \n",
       "4      -0.307247  1.588602 -0.028862  -0.854579  \n",
       "...          ...       ...       ...        ...  \n",
       "192539  0.161892  1.588602 -0.499735   1.011541  \n",
       "192540 -0.620006 -1.403089 -0.970608  -0.605763  \n",
       "192541 -0.620006  1.214641 -0.499735  -0.356947  \n",
       "192542 -0.620006  0.466718  0.442012  -0.356947  \n",
       "192543 -0.307247  0.466718  0.442012  -0.481355  \n",
       "\n",
       "[192544 rows x 10 columns]"
      ]
     },
     "execution_count": 924,
     "metadata": {},
     "output_type": "execute_result"
    }
   ],
   "source": [
    "scaled_Data =  sc.fit_transform(df1)\n",
    "print(scaled_Data.ndim)\n",
    "\n",
    "dfnew = pd.DataFrame(scaled_Data, columns= df1.columns)\n",
    "dfnew\n"
   ]
  }
 ],
 "metadata": {
  "colab": {
   "provenance": []
  },
  "kernelspec": {
   "display_name": "Python 3 (ipykernel)",
   "language": "python",
   "name": "python3"
  },
  "language_info": {
   "codemirror_mode": {
    "name": "ipython",
    "version": 3
   },
   "file_extension": ".py",
   "mimetype": "text/x-python",
   "name": "python",
   "nbconvert_exporter": "python",
   "pygments_lexer": "ipython3",
   "version": "3.12.4"
  }
 },
 "nbformat": 4,
 "nbformat_minor": 5
}
